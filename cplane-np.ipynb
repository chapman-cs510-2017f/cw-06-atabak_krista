{
 "cells": [
  {
   "cell_type": "code",
   "execution_count": 6,
   "metadata": {
    "collapsed": false
   },
   "outputs": [
   ],
   "source": [
    "import cplane_np\n",
    "import cplane"
   ]
  },
  {
   "cell_type": "markdown",
   "metadata": {
    "collapsed": false
   },
   "source": [
    "### Create a Plane Object\n",
    "X min = 0\n",
    "X max = 3\n",
    "Y min = 0\n",
    "Y max = 3\n",
    "X len = 3\n",
    "Y len = 3\n"
   ]
  },
  {
   "cell_type": "code",
   "execution_count": 9,
   "metadata": {
    "collapsed": false
   },
   "outputs": [
    {
     "name": "stdout",
     "output_type": "stream",
     "text": [
      "161 µs ± 6.59 µs per loop (mean ± std. dev. of 7 runs, 1000 loops each)\n"
     ]
    }
   ],
   "source": [
    "%timeit arrayPlane = cplane_np.ArrayComplexPlane(0, 3, 3, 0, 3, 3)\n"
   ]
  },
  {
   "cell_type": "code",
   "execution_count": 10,
   "metadata": {
    "collapsed": false
   },
   "outputs": [
    {
     "name": "stdout",
     "output_type": "stream",
     "text": [
      "7.7 µs ± 693 ns per loop (mean ± std. dev. of 7 runs, 100000 loops each)\n"
     ]
    }
   ],
   "source": [
    "%timeit listPlane = cplane.ListComplexPlane(0, 3, 3, 0, 3, 3)\n"
   ]
  },
  {
   "cell_type": "markdown",
   "metadata": {
    "collapsed": false
   },
   "source": [
    "Output is a Pandas DataFrame with numerical indices"
   ]
  },
  {
   "cell_type": "code",
   "execution_count": 0,
   "metadata": {
    "collapsed": false
   },
   "outputs": [
   ],
   "source": [
    "def apply(self, f):\n",
    "        fv=np.vectorize(f)\n",
    "        self.plane=fv(self.plane)\n",
    "        self.fs.append(f)"
   ]
  },
  {
   "cell_type": "markdown",
   "metadata": {
    "collapsed": false
   },
   "source": [
    "We used a Vectorized method for apply function"
   ]
  },
  {
   "cell_type": "code",
   "execution_count": 3,
   "metadata": {
    "collapsed": false
   },
   "outputs": [
   ],
   "source": [
    "def zoom(self, xmin, xmax, xlen, ymin, ymax, ylen):\n",
    "        self.xmin = xmin\n",
    "        self.xmax = xmax\n",
    "        self.xlen = xlen\n",
    "        self.ymin = ymin\n",
    "        self.ymax = ymax\n",
    "        self.ylen = ylen\n",
    "        self.plane = self.__create_plane(self.xmin, self.xmax, self.xlen,\n",
    "                                         self.ymin, self.ymax, self.ylen)\n",
    "        for f in self.fs:\n",
    "            self.apply(f)"
   ]
  },
  {
   "cell_type": "markdown",
   "metadata": {
    "collapsed": false
   },
   "source": [
    "We could not use vectorize method to avoid this for loop in the Zoom funtion because \"f\" does not return any value."
   ]
  },
  {
   "cell_type": "code",
   "execution_count": 0,
   "metadata": {
    "collapsed": false
   },
   "outputs": [
   ],
   "source": [
   ]
  }
 ],
 "metadata": {
  "kernelspec": {
   "display_name": "Python 3 (Anaconda)",
   "language": "python",
   "name": "anaconda3"
  },
  "language_info": {
   "codemirror_mode": {
    "name": "ipython",
    "version": 3
   },
   "file_extension": ".py",
   "mimetype": "text/x-python",
   "name": "python",
   "nbconvert_exporter": "python",
   "pygments_lexer": "ipython3",
   "version": "3.5.4"
  }
 },
 "nbformat": 4,
 "nbformat_minor": 0
}